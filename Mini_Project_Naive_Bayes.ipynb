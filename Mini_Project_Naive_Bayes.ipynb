{
 "cells": [
  {
   "cell_type": "markdown",
   "metadata": {},
   "source": [
    "# Basic Text Classification with Naive Bayes\n",
    "***\n",
    "In the mini-project, you'll learn the basics of text analysis using a subset of movie reviews from the rotten tomatoes database. You'll also use a fundamental technique in Bayesian inference, called Naive Bayes. This mini-project is based on [Lab 10 of Harvard's CS109](https://github.com/cs109/2015lab10) class.  Please free to go to the original lab for additional exercises and solutions."
   ]
  },
  {
   "cell_type": "code",
   "execution_count": 1,
   "metadata": {
    "collapsed": true
   },
   "outputs": [],
   "source": [
    "%matplotlib inline\n",
    "import numpy as np\n",
    "import scipy as sp\n",
    "import matplotlib as mpl\n",
    "import matplotlib.cm as cm\n",
    "import matplotlib.pyplot as plt\n",
    "import pandas as pd\n",
    "import seaborn as sns\n",
    "from six.moves import range\n",
    "\n",
    "# Setup Pandas\n",
    "pd.set_option('display.width', 500)\n",
    "pd.set_option('display.max_columns', 100)\n",
    "pd.set_option('display.notebook_repr_html', True)\n",
    "\n",
    "# Setup Seaborn\n",
    "sns.set_style(\"whitegrid\")\n",
    "sns.set_context(\"poster\")"
   ]
  },
  {
   "cell_type": "markdown",
   "metadata": {},
   "source": [
    "# Table of Contents\n",
    "\n",
    "* [Rotten Tomatoes Dataset](#Rotten-Tomatoes-Dataset)\n",
    "    * [Explore](#Explore)\n",
    "* [The Vector Space Model and a Search Engine](#The-Vector-Space-Model-and-a-Search-Engine)\n",
    "    * [In Code](#In-Code)\n",
    "* [Naive Bayes](#Naive-Bayes)\n",
    "    * [Multinomial Naive Bayes and Other Likelihood Functions](#Multinomial-Naive-Bayes-and-Other-Likelihood-Functions)\n",
    "    * [Picking Hyperparameters for Naive Bayes and Text Maintenance](#Picking-Hyperparameters-for-Naive-Bayes-and-Text-Maintenance)\n",
    "* [Interpretation](#Interpretation)\n"
   ]
  },
  {
   "cell_type": "markdown",
   "metadata": {},
   "source": [
    "## Rotten Tomatoes Dataset"
   ]
  },
  {
   "cell_type": "code",
   "execution_count": 2,
   "metadata": {
    "collapsed": true
   },
   "outputs": [
    {
     "data": {
      "text/html": [
       "<div>\n",
       "<style scoped>\n",
       "    .dataframe tbody tr th:only-of-type {\n",
       "        vertical-align: middle;\n",
       "    }\n",
       "\n",
       "    .dataframe tbody tr th {\n",
       "        vertical-align: top;\n",
       "    }\n",
       "\n",
       "    .dataframe thead th {\n",
       "        text-align: right;\n",
       "    }\n",
       "</style>\n",
       "<table border=\"1\" class=\"dataframe\">\n",
       "  <thead>\n",
       "    <tr style=\"text-align: right;\">\n",
       "      <th></th>\n",
       "      <th>critic</th>\n",
       "      <th>fresh</th>\n",
       "      <th>imdb</th>\n",
       "      <th>publication</th>\n",
       "      <th>quote</th>\n",
       "      <th>review_date</th>\n",
       "      <th>rtid</th>\n",
       "      <th>title</th>\n",
       "    </tr>\n",
       "  </thead>\n",
       "  <tbody>\n",
       "    <tr>\n",
       "      <th>1</th>\n",
       "      <td>Derek Adams</td>\n",
       "      <td>fresh</td>\n",
       "      <td>114709</td>\n",
       "      <td>Time Out</td>\n",
       "      <td>So ingenious in concept, design and execution ...</td>\n",
       "      <td>2009-10-04</td>\n",
       "      <td>9559</td>\n",
       "      <td>Toy story</td>\n",
       "    </tr>\n",
       "    <tr>\n",
       "      <th>2</th>\n",
       "      <td>Richard Corliss</td>\n",
       "      <td>fresh</td>\n",
       "      <td>114709</td>\n",
       "      <td>TIME Magazine</td>\n",
       "      <td>The year's most inventive comedy.</td>\n",
       "      <td>2008-08-31</td>\n",
       "      <td>9559</td>\n",
       "      <td>Toy story</td>\n",
       "    </tr>\n",
       "    <tr>\n",
       "      <th>3</th>\n",
       "      <td>David Ansen</td>\n",
       "      <td>fresh</td>\n",
       "      <td>114709</td>\n",
       "      <td>Newsweek</td>\n",
       "      <td>A winning animated feature that has something ...</td>\n",
       "      <td>2008-08-18</td>\n",
       "      <td>9559</td>\n",
       "      <td>Toy story</td>\n",
       "    </tr>\n",
       "    <tr>\n",
       "      <th>4</th>\n",
       "      <td>Leonard Klady</td>\n",
       "      <td>fresh</td>\n",
       "      <td>114709</td>\n",
       "      <td>Variety</td>\n",
       "      <td>The film sports a provocative and appealing st...</td>\n",
       "      <td>2008-06-09</td>\n",
       "      <td>9559</td>\n",
       "      <td>Toy story</td>\n",
       "    </tr>\n",
       "    <tr>\n",
       "      <th>5</th>\n",
       "      <td>Jonathan Rosenbaum</td>\n",
       "      <td>fresh</td>\n",
       "      <td>114709</td>\n",
       "      <td>Chicago Reader</td>\n",
       "      <td>An entertaining computer-generated, hyperreali...</td>\n",
       "      <td>2008-03-10</td>\n",
       "      <td>9559</td>\n",
       "      <td>Toy story</td>\n",
       "    </tr>\n",
       "  </tbody>\n",
       "</table>\n",
       "</div>"
      ],
      "text/plain": [
       "               critic  fresh    imdb     publication                                              quote review_date  rtid      title\n",
       "1         Derek Adams  fresh  114709        Time Out  So ingenious in concept, design and execution ...  2009-10-04  9559  Toy story\n",
       "2     Richard Corliss  fresh  114709   TIME Magazine                  The year's most inventive comedy.  2008-08-31  9559  Toy story\n",
       "3         David Ansen  fresh  114709        Newsweek  A winning animated feature that has something ...  2008-08-18  9559  Toy story\n",
       "4       Leonard Klady  fresh  114709         Variety  The film sports a provocative and appealing st...  2008-06-09  9559  Toy story\n",
       "5  Jonathan Rosenbaum  fresh  114709  Chicago Reader  An entertaining computer-generated, hyperreali...  2008-03-10  9559  Toy story"
      ]
     },
     "execution_count": 2,
     "metadata": {},
     "output_type": "execute_result"
    }
   ],
   "source": [
    "critics = pd.read_csv('./critics.csv')\n",
    "#let's drop rows with missing quotes\n",
    "critics = critics[~critics.quote.isnull()]\n",
    "critics.head()"
   ]
  },
  {
   "cell_type": "markdown",
   "metadata": {},
   "source": [
    "### Explore"
   ]
  },
  {
   "cell_type": "code",
   "execution_count": 3,
   "metadata": {
    "collapsed": true
   },
   "outputs": [
    {
     "name": "stdout",
     "output_type": "stream",
     "text": [
      "Number of reviews: 15561\n",
      "Number of critics: 623\n",
      "Number of movies:  1921\n"
     ]
    }
   ],
   "source": [
    "n_reviews = len(critics)\n",
    "n_movies = critics.rtid.unique().size\n",
    "n_critics = critics.critic.unique().size\n",
    "\n",
    "\n",
    "print(\"Number of reviews: {:d}\".format(n_reviews))\n",
    "print(\"Number of critics: {:d}\".format(n_critics))\n",
    "print(\"Number of movies:  {:d}\".format(n_movies))"
   ]
  },
  {
   "cell_type": "code",
   "execution_count": 4,
   "metadata": {
    "collapsed": true
   },
   "outputs": [
    {
     "data": {
      "image/png": "[encoded data removed]",
      "text/plain": [
       "<Figure size 432x288 with 1 Axes>"
      ]
     },
     "metadata": {},
     "output_type": "display_data"
    }
   ],
   "source": [
    "df = critics.copy()\n",
    "df['fresh'] = df.fresh == 'fresh'\n",
    "grp = df.groupby('critic')\n",
    "counts = grp.critic.count()  # number of reviews by each critic\n",
    "means = grp.fresh.mean()     # average freshness for each critic\n",
    "\n",
    "means[counts > 100].hist(bins=10, edgecolor='w', lw=1)\n",
    "plt.xlabel(\"Average Rating per critic\")\n",
    "plt.ylabel(\"Number of Critics\")\n",
    "plt.yticks([0, 2, 4, 6, 8, 10]);"
   ]
  },
  {
   "cell_type": "markdown",
   "metadata": {},
   "source": [
    "<div class=\"span5 alert alert-info\">\n",
    "<h3>Exercise Set I</h3>\n",
    "<br/>\n",
    "<b>Exercise:</b> Look at the histogram above. Tell a story about the average ratings per critic. What shape does the distribution look like? What is interesting about the distribution? What might explain these interesting things?\n",
    "</div>"
   ]
  },
  {
   "cell_type": "code",
   "execution_count": 5,
   "metadata": {},
   "outputs": [
    {
     "name": "stdout",
     "output_type": "stream",
     "text": [
      "The sample mean rating for critics with over 100 ratings is 0.6124\n",
      "The sample standard deviation from the mean rating for critics with over 100 ratings is 0.1007\n"
     ]
    }
   ],
   "source": [
    "print(\"The sample mean rating for critics with over 100 ratings is {}\".format(round(np.mean(means[counts > 100]), 4)))\n",
    "print(\"The sample standard deviation from the mean rating for critics with over 100 ratings is {}\".format(round(np.std(means[counts > 100]), 4)))"
   ]
  },
  {
   "cell_type": "markdown",
   "metadata": {},
   "source": [
    "The average rating per critic for critics with more than 100 reviews sample distribution appears to be normally distributed. The average rating per critic leans more towards a \"fresh\" (True == 1) review than towards a \"rotten\" or \"none\" (False == 0) review by approximately one standard deviation. This could be due to the movie review industry's \"culture\" of trying to be positive towards movies more often than being negative in order to promote the movie industry as a whole."
   ]
  },
  {
   "cell_type": "markdown",
   "metadata": {},
   "source": [
    "## The Vector Space Model and a Search Engine"
   ]
  },
  {
   "cell_type": "markdown",
   "metadata": {},
   "source": [
    "All the diagrams here are snipped from [*Introduction to Information Retrieval* by Manning et. al.]( http://nlp.stanford.edu/IR-book/) which is a great resource on text processing. For additional information on text mining and natural language processing, see [*Foundations of Statistical Natural Language Processing* by Manning and Schutze](http://nlp.stanford.edu/fsnlp/).\n",
    "\n",
    "Also check out Python packages [`nltk`](http://www.nltk.org/), [`spaCy`](https://spacy.io/), [`pattern`](http://www.clips.ua.ac.be/pattern), and their associated resources. Also see [`word2vec`](https://en.wikipedia.org/wiki/Word2vec).\n",
    "\n",
    "Let us define the vector derived from document $d$ by $\\bar V(d)$. What does this mean? Each document is treated as a vector containing information about the words contained in it. Each vector has the same length and each entry \"slot\" in the vector contains some kind of data about the words that appear in the document such as presence/absence (1/0), count (an integer) or some other statistic. Each vector has the same length because each document shared the same vocabulary across the full collection of documents -- this collection is called a *corpus*.\n",
    "\n",
    "To define the vocabulary, we take a union of all words we have seen in all documents. We then just associate an array index with them. So \"hello\" may be at index 5 and \"world\" at index 99.\n",
    "\n",
    "Suppose we have the following corpus:\n",
    "\n",
    "`A Fox one day spied a beautiful bunch of ripe grapes hanging from a vine trained along the branches of a tree. The grapes seemed ready to burst with juice, and the Fox's mouth watered as he gazed longingly at them.`\n",
    "\n",
    "Suppose we treat each sentence as a document $d$. The vocabulary (often called the *lexicon*) is the following:\n",
    "\n",
    "$V = \\left\\{\\right.$ `a, along, and, as, at, beautiful, branches, bunch, burst, day, fox, fox's, from, gazed, grapes, hanging, he, juice, longingly, mouth, of, one, ready, ripe, seemed, spied, the, them, to, trained, tree, vine, watered, with`$\\left.\\right\\}$\n",
    "\n",
    "Then the document\n",
    "\n",
    "`A Fox one day spied a beautiful bunch of ripe grapes hanging from a vine trained along the branches of a tree`\n",
    "\n",
    "may be represented as the following sparse vector of word counts:\n",
    "\n",
    "$$\\bar V(d) = \\left( 4,1,0,0,0,1,1,1,0,1,1,0,1,0,1,1,0,0,0,0,2,1,0,1,0,0,1,0,0,1,1,1,0,0 \\right)$$\n",
    "\n",
    "or more succinctly as\n",
    "\n",
    "`[(0, 4), (1, 1), (5, 1), (6, 1), (7, 1), (9, 1), (10, 1), (12, 1), (14, 1), (15, 1), (20, 2), (21, 1), (23, 1),`\n",
    "`(26, 1), (29,1), (30, 1), (31, 1)]`\n",
    "\n",
    "along with a dictionary\n",
    "\n",
    "``\n",
    "{\n",
    "    0: a, 1: along, 5: beautiful, 6: branches, 7: bunch, 9: day, 10: fox, 12: from, 14: grapes, 15: hanging, 19: mouth, 20: of, 21: one, 23: ripe, 24: seemed, 25: spied, 26: the, 29:trained, 30: tree, 31: vine, \n",
    "}\n",
    "``\n",
    "\n",
    "Then, a set of documents becomes, in the usual `sklearn` style, a sparse matrix with rows being sparse arrays representing documents and columns representing the features/words in the vocabulary.\n",
    "\n",
    "Notice that this representation loses the relative ordering of the terms in the document. That is \"cat ate rat\" and \"rat ate cat\" are the same. Thus, this representation is also known as the Bag-Of-Words representation.\n",
    "\n",
    "Here is another example, from the book quoted above, although the matrix is transposed here so that documents are columns:\n",
    "\n",
    "![novel terms](terms.png)\n",
    "\n",
    "Such a matrix is also catted a Term-Document Matrix. Here, the terms being indexed could be stemmed before indexing; for instance, `jealous` and `jealousy` after stemming are the same feature. One could also make use of other \"Natural Language Processing\" transformations in constructing the vocabulary. We could use Lemmatization, which reduces words to lemmas: work, working, worked would all reduce to work. We could remove \"stopwords\" from our vocabulary, such as common words like \"the\". We could look for particular parts of speech, such as adjectives. This is often done in Sentiment Analysis. And so on. It all depends on our application.\n",
    "\n",
    "From the book:\n",
    ">The standard way of quantifying the similarity between two documents $d_1$ and $d_2$  is to compute the cosine similarity of their vector representations $\\bar V(d_1)$ and $\\bar V(d_2)$:\n",
    "\n",
    "$$S_{12} = \\frac{\\bar V(d_1) \\cdot \\bar V(d_2)}{|\\bar V(d_1)| \\times |\\bar V(d_2)|}$$\n",
    "\n",
    "![Vector Space Model](vsm.png)\n",
    "\n",
    "\n",
    ">There is a far more compelling reason to represent documents as vectors: we can also view a query as a vector. Consider the query q = jealous gossip. This query turns into the unit vector $\\bar V(q)$ = (0, 0.707, 0.707) on the three coordinates below. \n",
    "\n",
    "![novel terms](terms2.png)\n",
    "\n",
    ">The key idea now: to assign to each document d a score equal to the dot product:\n",
    "\n",
    "$$\\bar V(q) \\cdot \\bar V(d)$$\n",
    "\n",
    "Then we can use this simple Vector Model as a Search engine."
   ]
  },
  {
   "cell_type": "markdown",
   "metadata": {},
   "source": [
    "### In Code"
   ]
  },
  {
   "cell_type": "code",
   "execution_count": 6,
   "metadata": {
    "collapsed": true
   },
   "outputs": [
    {
     "name": "stdout",
     "output_type": "stream",
     "text": [
      "Original text is\n",
      "Hop on pop\n",
      "Hop off pop\n",
      "Hop Hop hop\n",
      "\n",
      "Transformed text vector is \n",
      "[[1 0 1 1]\n",
      " [1 1 0 1]\n",
      " [3 0 0 0]]\n",
      "\n",
      "Words for each feature:\n",
      "['hop', 'off', 'on', 'pop']\n"
     ]
    }
   ],
   "source": [
    "from sklearn.feature_extraction.text import CountVectorizer\n",
    "\n",
    "text = ['Hop on pop', 'Hop off pop', 'Hop Hop hop']\n",
    "print(\"Original text is\\n{}\".format('\\n'.join(text)))\n",
    "\n",
    "vectorizer = CountVectorizer(min_df=0)\n",
    "\n",
    "# call `fit` to build the vocabulary\n",
    "vectorizer.fit(text)\n",
    "\n",
    "# call `transform` to convert text to a bag of words\n",
    "x = vectorizer.transform(text)\n",
    "\n",
    "# CountVectorizer uses a sparse array to save memory, but it's easier in this assignment to \n",
    "# convert back to a \"normal\" numpy array\n",
    "x = x.toarray()\n",
    "\n",
    "print(\"\")\n",
    "print(\"Transformed text vector is \\n{}\".format(x))\n",
    "\n",
    "# `get_feature_names` tracks which word is associated with each column of the transformed x\n",
    "print(\"\")\n",
    "print(\"Words for each feature:\")\n",
    "print(vectorizer.get_feature_names())\n",
    "\n",
    "# Notice that the bag of words treatment doesn't preserve information about the *order* of words, \n",
    "# just their frequency"
   ]
  },
  {
   "cell_type": "code",
   "execution_count": 7,
   "metadata": {
    "collapsed": true
   },
   "outputs": [],
   "source": [
    "def make_xy(critics, vectorizer=None):\n",
    "    #Your code here    \n",
    "    if vectorizer is None:\n",
    "        vectorizer = CountVectorizer()\n",
    "    X = vectorizer.fit_transform(critics.quote)\n",
    "    X = X.tocsc()  # some versions of sklearn return COO format\n",
    "    y = (critics.fresh == 'fresh').values.astype(np.int)\n",
    "    return X, y\n",
    "\n",
    "X, y = make_xy(critics)"
   ]
  },
  {
   "cell_type": "markdown",
   "metadata": {},
   "source": [
    "## Naive Bayes"
   ]
  },
  {
   "cell_type": "markdown",
   "metadata": {},
   "source": [
    "From Bayes' Theorem, we have that\n",
    "\n",
    "$$P(c \\vert f) = \\frac{P(c \\cap f)}{P(f)}$$\n",
    "\n",
    "where $c$ represents a *class* or category, and $f$ represents a feature vector, such as $\\bar V(d)$ as above. **We are computing the probability that a document (or whatever we are classifying) belongs to category *c* given the features in the document.** $P(f)$ is really just a normalization constant, so the literature usually writes Bayes' Theorem in context of Naive Bayes as\n",
    "\n",
    "$$P(c \\vert f) \\propto P(f \\vert c) P(c) $$\n",
    "\n",
    "$P(c)$ is called the *prior* and is simply the probability of seeing class $c$. But what is $P(f \\vert c)$? This is the probability that we see feature set $f$ given that this document is actually in class $c$. This is called the *likelihood* and comes from the data. One of the major assumptions of the Naive Bayes model is that the features are *conditionally independent* given the class. While the presence of a particular discriminative word may uniquely identify the document as being part of class $c$ and thus violate general feature independence, conditional independence means that the presence of that term is independent of all the other words that appear *within that class*. This is a very important distinction. Recall that if two events are independent, then:\n",
    "\n",
    "$$P(A \\cap B) = P(A) \\cdot P(B)$$\n",
    "\n",
    "Thus, conditional independence implies\n",
    "\n",
    "$$P(f \\vert c)  = \\prod_i P(f_i | c) $$\n",
    "\n",
    "where $f_i$ is an individual feature (a word in this example).\n",
    "\n",
    "To make a classification, we then choose the class $c$ such that $P(c \\vert f)$ is maximal.\n",
    "\n",
    "There is a small caveat when computing these probabilities. For [floating point underflow](http://nlp.stanford.edu/IR-book/html/htmledition/naive-bayes-text-classification-1.html) we change the product into a sum by going into log space. This is called the LogSumExp trick. So:\n",
    "\n",
    "$$\\log P(f \\vert c)  = \\sum_i \\log P(f_i \\vert c) $$\n",
    "\n",
    "There is another caveat. What if we see a term that didn't exist in the training data? This means that $P(f_i \\vert c) = 0$ for that term, and thus $P(f \\vert c)  = \\prod_i P(f_i | c) = 0$, which doesn't help us at all. Instead of using zeros, we add a small negligible value called $\\alpha$ to each count. This is called Laplace Smoothing.\n",
    "\n",
    "$$P(f_i \\vert c) = \\frac{N_{ic}+\\alpha}{N_c + \\alpha N_i}$$\n",
    "\n",
    "where $N_{ic}$ is the number of times feature $i$ was seen in class $c$, $N_c$ is the number of times class $c$ was seen and $N_i$ is the number of times feature $i$ was seen globally. $\\alpha$ is sometimes called a regularization parameter."
   ]
  },
  {
   "cell_type": "markdown",
   "metadata": {},
   "source": [
    "### Multinomial Naive Bayes and Other Likelihood Functions\n",
    "\n",
    "Since we are modeling word counts, we are using variation of Naive Bayes called Multinomial Naive Bayes. This is because the likelihood function actually takes the form of the multinomial distribution.\n",
    "\n",
    "$$P(f \\vert c) = \\frac{\\left( \\sum_i f_i \\right)!}{\\prod_i f_i!} \\prod_{f_i} P(f_i \\vert c)^{f_i} \\propto \\prod_{i} P(f_i \\vert c)$$\n",
    "\n",
    "where the nasty term out front is absorbed as a normalization constant such that probabilities sum to 1.\n",
    "\n",
    "There are many other variations of Naive Bayes, all which depend on what type of value $f_i$ takes. If $f_i$ is continuous, we may be able to use *Gaussian Naive Bayes*. First compute the mean and variance for each class $c$. Then the likelihood, $P(f \\vert c)$ is given as follows\n",
    "\n",
    "$$P(f_i = v \\vert c) = \\frac{1}{\\sqrt{2\\pi \\sigma^2_c}} e^{- \\frac{\\left( v - \\mu_c \\right)^2}{2 \\sigma^2_c}}$$"
   ]
  },
  {
   "cell_type": "markdown",
   "metadata": {},
   "source": [
    "<div class=\"span5 alert alert-info\">\n",
    "<h3>Exercise Set II</h3>\n",
    "\n",
    "<p><b>Exercise:</b> Implement a simple Naive Bayes classifier:</p>\n",
    "\n",
    "<ol>\n",
    "<li> split the data set into a training and test set\n",
    "<li> Use `scikit-learn`'s `MultinomialNB()` classifier with default parameters.\n",
    "<li> train the classifier over the training set and test on the test set\n",
    "<li> print the accuracy scores for both the training and the test sets\n",
    "</ol>\n",
    "\n",
    "What do you notice? Is this a good classifier? If not, why not?\n",
    "</div>"
   ]
  },
  {
   "cell_type": "code",
   "execution_count": 8,
   "metadata": {
    "collapsed": true
   },
   "outputs": [
    {
     "name": "stdout",
     "output_type": "stream",
     "text": [
      "The mean accuracy score for the training set is 0.921226588321704\n",
      "The mean accuracy score for the test set is 0.7738273720282716\n"
     ]
    }
   ],
   "source": [
    "#your turn\n",
    "from sklearn.model_selection import train_test_split\n",
    "from sklearn.naive_bayes import MultinomialNB\n",
    "\n",
    "# Split the data set into a training and test set\n",
    "X_train, X_test, y_train, y_test = train_test_split(X, y, test_size=0.3, random_state=5)\n",
    "\n",
    "# Use scikit-learn's MultinomialNB() classifier with default parameters\n",
    "clf = MultinomialNB()\n",
    "\n",
    "# Train the classifier over the training set and test on the test set\n",
    "clf.fit(X_train, y_train)\n",
    "\n",
    "# Print the accuracy scores for both the training and the test sets\n",
    "print(\"The mean accuracy score for the training set is {}\".format(clf.score(X_train, y_train)))\n",
    "print(\"The mean accuracy score for the test set is {}\".format(clf.score(X_test, y_test)))"
   ]
  },
  {
   "cell_type": "markdown",
   "metadata": {},
   "source": [
    "The MultinomialNB classifier performs very well on the training set and descently on the test set. There may be some overfitting taking place."
   ]
  },
  {
   "cell_type": "markdown",
   "metadata": {},
   "source": [
    "### Picking Hyperparameters for Naive Bayes and Text Maintenance"
   ]
  },
  {
   "cell_type": "markdown",
   "metadata": {},
   "source": [
    "We need to know what value to use for $\\alpha$, and we also need to know which words to include in the vocabulary. As mentioned earlier, some words are obvious stopwords. Other words appear so infrequently that they serve as noise, and other words in addition to stopwords appear so frequently that they may also serve as noise."
   ]
  },
  {
   "cell_type": "markdown",
   "metadata": {},
   "source": [
    "First, let's find an appropriate value for `min_df` for the `CountVectorizer`. `min_df` can be either an integer or a float/decimal. If it is an integer, `min_df` represents the minimum number of documents a word must appear in for it to be included in the vocabulary. If it is a float, it represents the minimum *percentage* of documents a word must appear in to be included in the vocabulary. From the documentation:"
   ]
  },
  {
   "cell_type": "markdown",
   "metadata": {},
   "source": [
    ">min_df: When building the vocabulary ignore terms that have a document frequency strictly lower than the given threshold. This value is also called cut-off in the literature. If float, the parameter represents a proportion of documents, integer absolute counts. This parameter is ignored if vocabulary is not None."
   ]
  },
  {
   "cell_type": "markdown",
   "metadata": {},
   "source": [
    "<div class=\"span5 alert alert-info\">\n",
    "<h3>Exercise Set III</h3>\n",
    "\n",
    "<p><b>Exercise:</b> Construct the cumulative distribution of document frequencies (df). The $x$-axis is a document count $x_i$ and the $y$-axis is the percentage of words that appear less than $x_i$ times. For example, at $x=5$, plot a point representing the percentage or number of words that appear in 5 or fewer documents.</p>\n",
    "\n",
    "<p><b>Exercise:</b> Look for the point at which the curve begins climbing steeply. This may be a good value for `min_df`. If we were interested in also picking `max_df`, we would likely pick the value where the curve starts to plateau. What value did you choose?</p>\n",
    "</div>"
   ]
  },
  {
   "cell_type": "code",
   "execution_count": 28,
   "metadata": {},
   "outputs": [
    {
     "data": {
      "text/html": [
       "<script>requirejs.config({paths: { 'plotly': ['https://cdn.plot.ly/plotly-latest.min']},});if(!window.Plotly) {{require(['plotly'],function(plotly) {window.Plotly=plotly;});}}</script>"
      ],
      "text/vnd.plotly.v1+html": [
       "<script>requirejs.config({paths: { 'plotly': ['https://cdn.plot.ly/plotly-latest.min']},});if(!window.Plotly) {{require(['plotly'],function(plotly) {window.Plotly=plotly;});}}</script>"
      ]
     },
     "metadata": {},
     "output_type": "display_data"
    },
    {
     "data": {
      "application/vnd.plotly.v1+json": {
       "data": [
        {
         "mode": "markers",
         "type": "scatter",
         "uid": "d0cace",
         "x": [
          1,
          2,
          3,
          4,
          5,
          6,
          7,
          8,
          9,
          10,
          11,
          12,
          13,
          14,
          15,
          16,
          17,
          18,
          19,
          20,
          21,
          22,
          23,
          24,
          25,
          26,
          27,
          28,
          29,
          30,
          31,
          32,
          33,
          34,
          35,
          36,
          37,
          38,
          39,
          40,
          41,
          42,
          43,
          44,
          45,
          46,
          47,
          48,
          49,
          50,
          51,
          52,
          53,
          54,
          55,
          56,
          57,
          58,
          59,
          60,
          61,
          62,
          63,
          64,
          65,
          66,
          67,
          68,
          69,
          70,
          71,
          72,
          73,
          74,
          75,
          76,
          77,
          78,
          79,
          80,
          81,
          82,
          83,
          84,
          85,
          86,
          87,
          88,
          89,
          90,
          91,
          92,
          93,
          94,
          95,
          96,
          97,
          98,
          99,
          100,
          101,
          102,
          103,
          104,
          105,
          106,
          107,
          108,
          109,
          110,
          111,
          112,
          113,
          115,
          116,
          119,
          120,
          121,
          123,
          126,
          127,
          128,
          129,
          131,
          132,
          133,
          134,
          137,
          138,
          139,
          140,
          141,
          143,
          144,
          145,
          146,
          149,
          153,
          154,
          155,
          156,
          158,
          160,
          162,
          165,
          166,
          169,
          170,
          171,
          172,
          174,
          175,
          176,
          177,
          182,
          183,
          186,
          187,
          191,
          193,
          194,
          195,
          196,
          197,
          198,
          199,
          201,
          202,
          207,
          208,
          210,
          211,
          212,
          214,
          215,
          216,
          218,
          220,
          221,
          223,
          224,
          227,
          228,
          230,
          231,
          232,
          234,
          235,
          237,
          238,
          241,
          242,
          243,
          245,
          246,
          248,
          249,
          250,
          251,
          252,
          253,
          255,
          256,
          257,
          258,
          259,
          263,
          265,
          269,
          271,
          272,
          274,
          275,
          277,
          278,
          280,
          283,
          286,
          288,
          295,
          299,
          301,
          310,
          312,
          315,
          316,
          320,
          327,
          329,
          330,
          335,
          342,
          349,
          353,
          360,
          361,
          362,
          373,
          374,
          384,
          385,
          386,
          388,
          398,
          400,
          401,
          408,
          412,
          414,
          423,
          425,
          427,
          431,
          445,
          460,
          461,
          469,
          484,
          490,
          501,
          517,
          525,
          529,
          563,
          579,
          582,
          594,
          601,
          628,
          645,
          646,
          647,
          654,
          655,
          674,
          678,
          694,
          752,
          774,
          785,
          824,
          839,
          945,
          948,
          951,
          973,
          1008,
          1011,
          1041,
          1056,
          1064,
          1173,
          1217,
          1234,
          1254,
          1307,
          1319,
          1661,
          1739,
          1966,
          1987,
          2128,
          2205,
          2260,
          2359,
          2360,
          3290,
          3672,
          4312,
          4957,
          5120,
          7133,
          7552,
          9502
         ],
         "y": [
          0.42762189409822904,
          0.583262702413347,
          0.6685997234241869,
          0.724584021055449,
          0.7645982959361198,
          0.7927911852611856,
          0.8168800463933621,
          0.8351697372529776,
          0.8507382789846991,
          0.8638533256011063,
          0.8739795690770398,
          0.883659722532007,
          0.8917339519114957,
          0.8996743542846947,
          0.905428915555159,
          0.9103805147878842,
          0.9147521969933532,
          0.918677789177856,
          0.922826426372842,
          0.926484364544765,
          0.9304545657313644,
          0.933354150867645,
          0.9358968639871524,
          0.9383057501003701,
          0.9402239371905249,
          0.9426328233037425,
          0.9444617923897041,
          0.9469152875050183,
          0.9491903466119461,
          0.9507962706874246,
          0.9522683677566132,
          0.9535620288174153,
          0.9550787348887004,
          0.9566400499620823,
          0.9578444930186911,
          0.9589151090690101,
          0.9598072891109426,
          0.9606994691528751,
          0.9616362581969041,
          0.9626176562430299,
          0.9635990542891556,
          0.9644912343310881,
          0.9654726323772138,
          0.9663202034170496,
          0.9670785564526923,
          0.9678369094883349,
          0.9686398715260741,
          0.969130570549137,
          0.9697997055805864,
          0.9703350136057458,
          0.9709149306330019,
          0.9714948476602581,
          0.9721193736896108,
          0.9725208547084804,
          0.9731007717357365,
          0.9735914707587994,
          0.9741713877860555,
          0.9747513048133116,
          0.9752420038363745,
          0.9757773118615339,
          0.9762234018825001,
          0.9766694919034663,
          0.9772047999286257,
          0.9775170629433021,
          0.9776954989516886,
          0.9783200249810413,
          0.9787661150020075,
          0.978944551010394,
          0.9791229870187805,
          0.979301423027167,
          0.9793906410313603,
          0.9797029040460367,
          0.9801936030690995,
          0.980372039077486,
          0.9805950840879691,
          0.9811303921131286,
          0.9813980461257084,
          0.9814426551278049,
          0.981665700138288,
          0.9821563991613509,
          0.9823348351697374,
          0.9826917071865104,
          0.9829593611990902,
          0.9830485792032835,
          0.9833608422179598,
          0.9836284962305396,
          0.9837177142347329,
          0.9838961502431194,
          0.9840299772494092,
          0.984163804255699,
          0.9842084132577956,
          0.9843868492661821,
          0.9847883302850517,
          0.9851005932997281,
          0.9851898113039214,
          0.9853236383102112,
          0.9855020743185977,
          0.985591292322791,
          0.9857697283311775,
          0.985948164339564,
          0.9860373823437573,
          0.9862158183521438,
          0.986305036356337,
          0.9864388633626269,
          0.9865726903689167,
          0.9867957353793998,
          0.9869741713877863,
          0.9870633893919796,
          0.9871079983940761,
          0.9872864344024627,
          0.9874648704108492,
          0.9875094794129458,
          0.9877325244234288,
          0.9880447874381052,
          0.9882678324485883,
          0.9883124414506849,
          0.9884016594548781,
          0.9884908774590714,
          0.9885800954632646,
          0.9887139224695545,
          0.988758531471651,
          0.9888477494758443,
          0.9889369674800376,
          0.9890261854842308,
          0.9891154034884241,
          0.9892046214926173,
          0.9892492304947139,
          0.9893830575010037,
          0.9895168845072936,
          0.9896061025114868,
          0.9896953205156801,
          0.9899183655261632,
          0.9899629745282598,
          0.9901414105366463,
          0.9901860195387429,
          0.9903644555471294,
          0.9904536735513226,
          0.9904982825534192,
          0.9908105455680956,
          0.9909443725743854,
          0.9910335905785786,
          0.9910781995806752,
          0.9911674175848685,
          0.9912120265869651,
          0.9913012445911583,
          0.9913904625953516,
          0.9914796805995448,
          0.9915242896016414,
          0.991568898603738,
          0.9917027256100278,
          0.9917919436142211,
          0.9918811616184143,
          0.9919257706205109,
          0.9920149886247042,
          0.9920595976268007,
          0.9921042066288973,
          0.9921488156309939,
          0.9922380336351871,
          0.9922826426372837,
          0.9923272516393803,
          0.9924164696435736,
          0.9924610786456701,
          0.9925056876477667,
          0.9925502966498633,
          0.9926841236561531,
          0.9928179506624429,
          0.9928625596645395,
          0.9929517776687328,
          0.9929963866708293,
          0.9930409956729259,
          0.9931302136771192,
          0.9932194316813124,
          0.993264040683409,
          0.9933086496855056,
          0.9933532586876022,
          0.9933978676896987,
          0.993487085693892,
          0.9935763036980853,
          0.9936209127001818,
          0.9936655217022784,
          0.993710130704375,
          0.9937547397064715,
          0.9938885667127614,
          0.993933175714858,
          0.9939777847169545,
          0.9940223937190511,
          0.9940670027211477,
          0.9941116117232442,
          0.9941562207253408,
          0.9942008297274374,
          0.994245438729534,
          0.9942900477316305,
          0.9943346567337271,
          0.9943792657358237,
          0.9944238747379203,
          0.9944684837400168,
          0.9946023107463067,
          0.9946915287504999,
          0.9947361377525965,
          0.9947807467546931,
          0.9948253557567897,
          0.9948699647588862,
          0.9949145737609828,
          0.9949591827630794,
          0.995003791765176,
          0.9950484007672725,
          0.9950930097693691,
          0.9951376187714657,
          0.9952268367756589,
          0.9952714457777555,
          0.9953606637819488,
          0.995449881786142,
          0.9954944907882386,
          0.9955390997903352,
          0.9955837087924317,
          0.9956283177945283,
          0.9956729267966249,
          0.9957175357987215,
          0.995762144800818,
          0.9958067538029146,
          0.9958513628050112,
          0.9958959718071078,
          0.9959405808092043,
          0.9959851898113009,
          0.9960297988133975,
          0.9960744078154941,
          0.9961190168175906,
          0.9961636258196872,
          0.9962082348217838,
          0.9962528438238804,
          0.9962974528259769,
          0.9963420618280735,
          0.9963866708301701,
          0.9964312798322666,
          0.9964758888343632,
          0.9965204978364598,
          0.9965651068385564,
          0.9966097158406529,
          0.9966543248427495,
          0.9966989338448461,
          0.9967435428469427,
          0.9967881518490392,
          0.9968327608511358,
          0.9968773698532324,
          0.996921978855329,
          0.9969665878574255,
          0.9970111968595221,
          0.9970558058616187,
          0.9971004148637153,
          0.9971450238658118,
          0.9971896328679084,
          0.997234241870005,
          0.9972788508721016,
          0.9973234598741981,
          0.9973680688762947,
          0.9974126778783913,
          0.9974572868804878,
          0.9975018958825844,
          0.997546504884681,
          0.9975911138867776,
          0.9976357228888741,
          0.9976803318909707,
          0.9977249408930673,
          0.9977695498951639,
          0.9978141588972604,
          0.997858767899357,
          0.9979033769014536,
          0.9979479859035502,
          0.9979925949056467,
          0.9980372039077433,
          0.9980818129098399,
          0.9981264219119365,
          0.998171030914033,
          0.9982156399161296,
          0.9982602489182262,
          0.9983048579203228,
          0.9983494669224193,
          0.9983940759245159,
          0.9984386849266125,
          0.998483293928709,
          0.9985279029308056,
          0.9985725119329022,
          0.9986171209349988,
          0.9986617299370953,
          0.9987063389391919,
          0.9987509479412885,
          0.9987955569433851,
          0.9988401659454816,
          0.9988847749475782,
          0.9989293839496748,
          0.9989739929517714,
          0.9990186019538679,
          0.9990632109559645,
          0.9991078199580611,
          0.9991524289601577,
          0.9991970379622542,
          0.9992416469643508,
          0.9992862559664474,
          0.999330864968544,
          0.9993754739706405,
          0.9994200829727371,
          0.9994646919748337,
          0.9995093009769302,
          0.9995539099790268,
          0.9995985189811234,
          0.99964312798322,
          0.9996877369853165,
          0.9997323459874131,
          0.9997769549895097,
          0.9998215639916063,
          0.9998661729937028,
          0.9999107819957994,
          0.999955390997896,
          0.9999999999999926
         ]
        }
       ],
       "layout": {
        "autosize": true,
        "legend": {
         "font": {
          "family": "serif",
          "size": 12
         }
        },
        "plot_bgcolor": "rgb(247,247,247)",
        "title": "<b>Cumulative Distribution of Document Frequencies</b>",
        "titlefont": {
         "family": "serif",
         "size": 24
        },
        "xaxis": {
         "autorange": false,
         "range": [
          -0.8001469136365671,
          100.9085191446978
         ],
         "tickfont": {
          "family": "serif",
          "size": 14
         },
         "title": "<b>Document Count</b>",
         "titlefont": {
          "family": "serif",
          "size": 14
         },
         "type": "linear"
        },
        "yaxis": {
         "autorange": false,
         "range": [
          0.3856961092710298,
          1.0397611383279615
         ],
         "tickfont": {
          "family": "serif",
          "size": 14
         },
         "title": "<b>CDF, %</b>",
         "titlefont": {
          "family": "serif",
          "size": 14
         },
         "type": "linear"
        }
       }
      },
      "text/html": [
       "<div id=\"98583bbf-ffda-408c-911c-8e1795788ac0\" style=\"height: 525px; width: 100%;\" class=\"plotly-graph-div\"></div><script type=\"text/javascript\">require([\"plotly\"], function(Plotly) { window.PLOTLYENV=window.PLOTLYENV || {};window.PLOTLYENV.BASE_URL=\"https://plot.ly\";Plotly.newPlot(\"98583bbf-ffda-408c-911c-8e1795788ac0\", [{\"type\": \"scatter\", \"x\": [1, 2, 3, 4, 5, 6, 7, 8, 9, 10, 11, 12, 13, 14, 15, 16, 17, 18, 19, 20, 21, 22, 23, 24, 25, 26, 27, 28, 29, 30, 31, 32, 33, 34, 35, 36, 37, 38, 39, 40, 41, 42, 43, 44, 45, 46, 47, 48, 49, 50, 51, 52, 53, 54, 55, 56, 57, 58, 59, 60, 61, 62, 63, 64, 65, 66, 67, 68, 69, 70, 71, 72, 73, 74, 75, 76, 77, 78, 79, 80, 81, 82, 83, 84, 85, 86, 87, 88, 89, 90, 91, 92, 93, 94, 95, 96, 97, 98, 99, 100, 101, 102, 103, 104, 105, 106, 107, 108, 109, 110, 111, 112, 113, 115, 116, 119, 120, 121, 123, 126, 127, 128, 129, 131, 132, 133, 134, 137, 138, 139, 140, 141, 143, 144, 145, 146, 149, 153, 154, 155, 156, 158, 160, 162, 165, 166, 169, 170, 171, 172, 174, 175, 176, 177, 182, 183, 186, 187, 191, 193, 194, 195, 196, 197, 198, 199, 201, 202, 207, 208, 210, 211, 212, 214, 215, 216, 218, 220, 221, 223, 224, 227, 228, 230, 231, 232, 234, 235, 237, 238, 241, 242, 243, 245, 246, 248, 249, 250, 251, 252, 253, 255, 256, 257, 258, 259, 263, 265, 269, 271, 272, 274, 275, 277, 278, 280, 283, 286, 288, 295, 299, 301, 310, 312, 315, 316, 320, 327, 329, 330, 335, 342, 349, 353, 360, 361, 362, 373, 374, 384, 385, 386, 388, 398, 400, 401, 408, 412, 414, 423, 425, 427, 431, 445, 460, 461, 469, 484, 490, 501, 517, 525, 529, 563, 579, 582, 594, 601, 628, 645, 646, 647, 654, 655, 674, 678, 694, 752, 774, 785, 824, 839, 945, 948, 951, 973, 1008, 1011, 1041, 1056, 1064, 1173, 1217, 1234, 1254, 1307, 1319, 1661, 1739, 1966, 1987, 2128, 2205, 2260, 2359, 2360, 3290, 3672, 4312, 4957, 5120, 7133, 7552, 9502], \"y\": [0.42762189409822904, 0.583262702413347, 0.6685997234241869, 0.724584021055449, 0.7645982959361198, 0.7927911852611856, 0.8168800463933621, 0.8351697372529776, 0.8507382789846991, 0.8638533256011063, 0.8739795690770398, 0.883659722532007, 0.8917339519114957, 0.8996743542846947, 0.905428915555159, 0.9103805147878842, 0.9147521969933532, 0.918677789177856, 0.922826426372842, 0.926484364544765, 0.9304545657313644, 0.933354150867645, 0.9358968639871524, 0.9383057501003701, 0.9402239371905249, 0.9426328233037425, 0.9444617923897041, 0.9469152875050183, 0.9491903466119461, 0.9507962706874246, 0.9522683677566132, 0.9535620288174153, 0.9550787348887004, 0.9566400499620823, 0.9578444930186911, 0.9589151090690101, 0.9598072891109426, 0.9606994691528751, 0.9616362581969041, 0.9626176562430299, 0.9635990542891556, 0.9644912343310881, 0.9654726323772138, 0.9663202034170496, 0.9670785564526923, 0.9678369094883349, 0.9686398715260741, 0.969130570549137, 0.9697997055805864, 0.9703350136057458, 0.9709149306330019, 0.9714948476602581, 0.9721193736896108, 0.9725208547084804, 0.9731007717357365, 0.9735914707587994, 0.9741713877860555, 0.9747513048133116, 0.9752420038363745, 0.9757773118615339, 0.9762234018825001, 0.9766694919034663, 0.9772047999286257, 0.9775170629433021, 0.9776954989516886, 0.9783200249810413, 0.9787661150020075, 0.978944551010394, 0.9791229870187805, 0.979301423027167, 0.9793906410313603, 0.9797029040460367, 0.9801936030690995, 0.980372039077486, 0.9805950840879691, 0.9811303921131286, 0.9813980461257084, 0.9814426551278049, 0.981665700138288, 0.9821563991613509, 0.9823348351697374, 0.9826917071865104, 0.9829593611990902, 0.9830485792032835, 0.9833608422179598, 0.9836284962305396, 0.9837177142347329, 0.9838961502431194, 0.9840299772494092, 0.984163804255699, 0.9842084132577956, 0.9843868492661821, 0.9847883302850517, 0.9851005932997281, 0.9851898113039214, 0.9853236383102112, 0.9855020743185977, 0.985591292322791, 0.9857697283311775, 0.985948164339564, 0.9860373823437573, 0.9862158183521438, 0.986305036356337, 0.9864388633626269, 0.9865726903689167, 0.9867957353793998, 0.9869741713877863, 0.9870633893919796, 0.9871079983940761, 0.9872864344024627, 0.9874648704108492, 0.9875094794129458, 0.9877325244234288, 0.9880447874381052, 0.9882678324485883, 0.9883124414506849, 0.9884016594548781, 0.9884908774590714, 0.9885800954632646, 0.9887139224695545, 0.988758531471651, 0.9888477494758443, 0.9889369674800376, 0.9890261854842308, 0.9891154034884241, 0.9892046214926173, 0.9892492304947139, 0.9893830575010037, 0.9895168845072936, 0.9896061025114868, 0.9896953205156801, 0.9899183655261632, 0.9899629745282598, 0.9901414105366463, 0.9901860195387429, 0.9903644555471294, 0.9904536735513226, 0.9904982825534192, 0.9908105455680956, 0.9909443725743854, 0.9910335905785786, 0.9910781995806752, 0.9911674175848685, 0.9912120265869651, 0.9913012445911583, 0.9913904625953516, 0.9914796805995448, 0.9915242896016414, 0.991568898603738, 0.9917027256100278, 0.9917919436142211, 0.9918811616184143, 0.9919257706205109, 0.9920149886247042, 0.9920595976268007, 0.9921042066288973, 0.9921488156309939, 0.9922380336351871, 0.9922826426372837, 0.9923272516393803, 0.9924164696435736, 0.9924610786456701, 0.9925056876477667, 0.9925502966498633, 0.9926841236561531, 0.9928179506624429, 0.9928625596645395, 0.9929517776687328, 0.9929963866708293, 0.9930409956729259, 0.9931302136771192, 0.9932194316813124, 0.993264040683409, 0.9933086496855056, 0.9933532586876022, 0.9933978676896987, 0.993487085693892, 0.9935763036980853, 0.9936209127001818, 0.9936655217022784, 0.993710130704375, 0.9937547397064715, 0.9938885667127614, 0.993933175714858, 0.9939777847169545, 0.9940223937190511, 0.9940670027211477, 0.9941116117232442, 0.9941562207253408, 0.9942008297274374, 0.994245438729534, 0.9942900477316305, 0.9943346567337271, 0.9943792657358237, 0.9944238747379203, 0.9944684837400168, 0.9946023107463067, 0.9946915287504999, 0.9947361377525965, 0.9947807467546931, 0.9948253557567897, 0.9948699647588862, 0.9949145737609828, 0.9949591827630794, 0.995003791765176, 0.9950484007672725, 0.9950930097693691, 0.9951376187714657, 0.9952268367756589, 0.9952714457777555, 0.9953606637819488, 0.995449881786142, 0.9954944907882386, 0.9955390997903352, 0.9955837087924317, 0.9956283177945283, 0.9956729267966249, 0.9957175357987215, 0.995762144800818, 0.9958067538029146, 0.9958513628050112, 0.9958959718071078, 0.9959405808092043, 0.9959851898113009, 0.9960297988133975, 0.9960744078154941, 0.9961190168175906, 0.9961636258196872, 0.9962082348217838, 0.9962528438238804, 0.9962974528259769, 0.9963420618280735, 0.9963866708301701, 0.9964312798322666, 0.9964758888343632, 0.9965204978364598, 0.9965651068385564, 0.9966097158406529, 0.9966543248427495, 0.9966989338448461, 0.9967435428469427, 0.9967881518490392, 0.9968327608511358, 0.9968773698532324, 0.996921978855329, 0.9969665878574255, 0.9970111968595221, 0.9970558058616187, 0.9971004148637153, 0.9971450238658118, 0.9971896328679084, 0.997234241870005, 0.9972788508721016, 0.9973234598741981, 0.9973680688762947, 0.9974126778783913, 0.9974572868804878, 0.9975018958825844, 0.997546504884681, 0.9975911138867776, 0.9976357228888741, 0.9976803318909707, 0.9977249408930673, 0.9977695498951639, 0.9978141588972604, 0.997858767899357, 0.9979033769014536, 0.9979479859035502, 0.9979925949056467, 0.9980372039077433, 0.9980818129098399, 0.9981264219119365, 0.998171030914033, 0.9982156399161296, 0.9982602489182262, 0.9983048579203228, 0.9983494669224193, 0.9983940759245159, 0.9984386849266125, 0.998483293928709, 0.9985279029308056, 0.9985725119329022, 0.9986171209349988, 0.9986617299370953, 0.9987063389391919, 0.9987509479412885, 0.9987955569433851, 0.9988401659454816, 0.9988847749475782, 0.9989293839496748, 0.9989739929517714, 0.9990186019538679, 0.9990632109559645, 0.9991078199580611, 0.9991524289601577, 0.9991970379622542, 0.9992416469643508, 0.9992862559664474, 0.999330864968544, 0.9993754739706405, 0.9994200829727371, 0.9994646919748337, 0.9995093009769302, 0.9995539099790268, 0.9995985189811234, 0.99964312798322, 0.9996877369853165, 0.9997323459874131, 0.9997769549895097, 0.9998215639916063, 0.9998661729937028, 0.9999107819957994, 0.999955390997896, 0.9999999999999926], \"mode\": \"markers\"}], {\"plot_bgcolor\": \"rgb(247,247,247)\", \"legend\": {\"font\": {\"family\": \"serif\", \"size\": 12}}, \"title\": \"<b>Cumulative Distribution of Document Frequencies</b>\", \"titlefont\": {\"family\": \"serif\", \"size\": 24}, \"yaxis\": {\"title\": \"<b>CDF, %</b>\", \"titlefont\": {\"family\": \"serif\", \"size\": 14}, \"tickfont\": {\"family\": \"serif\", \"size\": 14}}, \"xaxis\": {\"title\": \"<b>Document Count</b>\", \"titlefont\": {\"family\": \"serif\", \"size\": 14}, \"tickfont\": {\"family\": \"serif\", \"size\": 14}}}, {\"showLink\": true, \"linkText\": \"Export to plot.ly\"})});</script>"
      ],
      "text/vnd.plotly.v1+html": [
       "<div id=\"98583bbf-ffda-408c-911c-8e1795788ac0\" style=\"height: 525px; width: 100%;\" class=\"plotly-graph-div\"></div><script type=\"text/javascript\">require([\"plotly\"], function(Plotly) { window.PLOTLYENV=window.PLOTLYENV || {};window.PLOTLYENV.BASE_URL=\"https://plot.ly\";Plotly.newPlot(\"98583bbf-ffda-408c-911c-8e1795788ac0\", [{\"type\": \"scatter\", \"x\": [1, 2, 3, 4, 5, 6, 7, 8, 9, 10, 11, 12, 13, 14, 15, 16, 17, 18, 19, 20, 21, 22, 23, 24, 25, 26, 27, 28, 29, 30, 31, 32, 33, 34, 35, 36, 37, 38, 39, 40, 41, 42, 43, 44, 45, 46, 47, 48, 49, 50, 51, 52, 53, 54, 55, 56, 57, 58, 59, 60, 61, 62, 63, 64, 65, 66, 67, 68, 69, 70, 71, 72, 73, 74, 75, 76, 77, 78, 79, 80, 81, 82, 83, 84, 85, 86, 87, 88, 89, 90, 91, 92, 93, 94, 95, 96, 97, 98, 99, 100, 101, 102, 103, 104, 105, 106, 107, 108, 109, 110, 111, 112, 113, 115, 116, 119, 120, 121, 123, 126, 127, 128, 129, 131, 132, 133, 134, 137, 138, 139, 140, 141, 143, 144, 145, 146, 149, 153, 154, 155, 156, 158, 160, 162, 165, 166, 169, 170, 171, 172, 174, 175, 176, 177, 182, 183, 186, 187, 191, 193, 194, 195, 196, 197, 198, 199, 201, 202, 207, 208, 210, 211, 212, 214, 215, 216, 218, 220, 221, 223, 224, 227, 228, 230, 231, 232, 234, 235, 237, 238, 241, 242, 243, 245, 246, 248, 249, 250, 251, 252, 253, 255, 256, 257, 258, 259, 263, 265, 269, 271, 272, 274, 275, 277, 278, 280, 283, 286, 288, 295, 299, 301, 310, 312, 315, 316, 320, 327, 329, 330, 335, 342, 349, 353, 360, 361, 362, 373, 374, 384, 385, 386, 388, 398, 400, 401, 408, 412, 414, 423, 425, 427, 431, 445, 460, 461, 469, 484, 490, 501, 517, 525, 529, 563, 579, 582, 594, 601, 628, 645, 646, 647, 654, 655, 674, 678, 694, 752, 774, 785, 824, 839, 945, 948, 951, 973, 1008, 1011, 1041, 1056, 1064, 1173, 1217, 1234, 1254, 1307, 1319, 1661, 1739, 1966, 1987, 2128, 2205, 2260, 2359, 2360, 3290, 3672, 4312, 4957, 5120, 7133, 7552, 9502], \"y\": [0.42762189409822904, 0.583262702413347, 0.6685997234241869, 0.724584021055449, 0.7645982959361198, 0.7927911852611856, 0.8168800463933621, 0.8351697372529776, 0.8507382789846991, 0.8638533256011063, 0.8739795690770398, 0.883659722532007, 0.8917339519114957, 0.8996743542846947, 0.905428915555159, 0.9103805147878842, 0.9147521969933532, 0.918677789177856, 0.922826426372842, 0.926484364544765, 0.9304545657313644, 0.933354150867645, 0.9358968639871524, 0.9383057501003701, 0.9402239371905249, 0.9426328233037425, 0.9444617923897041, 0.9469152875050183, 0.9491903466119461, 0.9507962706874246, 0.9522683677566132, 0.9535620288174153, 0.9550787348887004, 0.9566400499620823, 0.9578444930186911, 0.9589151090690101, 0.9598072891109426, 0.9606994691528751, 0.9616362581969041, 0.9626176562430299, 0.9635990542891556, 0.9644912343310881, 0.9654726323772138, 0.9663202034170496, 0.9670785564526923, 0.9678369094883349, 0.9686398715260741, 0.969130570549137, 0.9697997055805864, 0.9703350136057458, 0.9709149306330019, 0.9714948476602581, 0.9721193736896108, 0.9725208547084804, 0.9731007717357365, 0.9735914707587994, 0.9741713877860555, 0.9747513048133116, 0.9752420038363745, 0.9757773118615339, 0.9762234018825001, 0.9766694919034663, 0.9772047999286257, 0.9775170629433021, 0.9776954989516886, 0.9783200249810413, 0.9787661150020075, 0.978944551010394, 0.9791229870187805, 0.979301423027167, 0.9793906410313603, 0.9797029040460367, 0.9801936030690995, 0.980372039077486, 0.9805950840879691, 0.9811303921131286, 0.9813980461257084, 0.9814426551278049, 0.981665700138288, 0.9821563991613509, 0.9823348351697374, 0.9826917071865104, 0.9829593611990902, 0.9830485792032835, 0.9833608422179598, 0.9836284962305396, 0.9837177142347329, 0.9838961502431194, 0.9840299772494092, 0.984163804255699, 0.9842084132577956, 0.9843868492661821, 0.9847883302850517, 0.9851005932997281, 0.9851898113039214, 0.9853236383102112, 0.9855020743185977, 0.985591292322791, 0.9857697283311775, 0.985948164339564, 0.9860373823437573, 0.9862158183521438, 0.986305036356337, 0.9864388633626269, 0.9865726903689167, 0.9867957353793998, 0.9869741713877863, 0.9870633893919796, 0.9871079983940761, 0.9872864344024627, 0.9874648704108492, 0.9875094794129458, 0.9877325244234288, 0.9880447874381052, 0.9882678324485883, 0.9883124414506849, 0.9884016594548781, 0.9884908774590714, 0.9885800954632646, 0.9887139224695545, 0.988758531471651, 0.9888477494758443, 0.9889369674800376, 0.9890261854842308, 0.9891154034884241, 0.9892046214926173, 0.9892492304947139, 0.9893830575010037, 0.9895168845072936, 0.9896061025114868, 0.9896953205156801, 0.9899183655261632, 0.9899629745282598, 0.9901414105366463, 0.9901860195387429, 0.9903644555471294, 0.9904536735513226, 0.9904982825534192, 0.9908105455680956, 0.9909443725743854, 0.9910335905785786, 0.9910781995806752, 0.9911674175848685, 0.9912120265869651, 0.9913012445911583, 0.9913904625953516, 0.9914796805995448, 0.9915242896016414, 0.991568898603738, 0.9917027256100278, 0.9917919436142211, 0.9918811616184143, 0.9919257706205109, 0.9920149886247042, 0.9920595976268007, 0.9921042066288973, 0.9921488156309939, 0.9922380336351871, 0.9922826426372837, 0.9923272516393803, 0.9924164696435736, 0.9924610786456701, 0.9925056876477667, 0.9925502966498633, 0.9926841236561531, 0.9928179506624429, 0.9928625596645395, 0.9929517776687328, 0.9929963866708293, 0.9930409956729259, 0.9931302136771192, 0.9932194316813124, 0.993264040683409, 0.9933086496855056, 0.9933532586876022, 0.9933978676896987, 0.993487085693892, 0.9935763036980853, 0.9936209127001818, 0.9936655217022784, 0.993710130704375, 0.9937547397064715, 0.9938885667127614, 0.993933175714858, 0.9939777847169545, 0.9940223937190511, 0.9940670027211477, 0.9941116117232442, 0.9941562207253408, 0.9942008297274374, 0.994245438729534, 0.9942900477316305, 0.9943346567337271, 0.9943792657358237, 0.9944238747379203, 0.9944684837400168, 0.9946023107463067, 0.9946915287504999, 0.9947361377525965, 0.9947807467546931, 0.9948253557567897, 0.9948699647588862, 0.9949145737609828, 0.9949591827630794, 0.995003791765176, 0.9950484007672725, 0.9950930097693691, 0.9951376187714657, 0.9952268367756589, 0.9952714457777555, 0.9953606637819488, 0.995449881786142, 0.9954944907882386, 0.9955390997903352, 0.9955837087924317, 0.9956283177945283, 0.9956729267966249, 0.9957175357987215, 0.995762144800818, 0.9958067538029146, 0.9958513628050112, 0.9958959718071078, 0.9959405808092043, 0.9959851898113009, 0.9960297988133975, 0.9960744078154941, 0.9961190168175906, 0.9961636258196872, 0.9962082348217838, 0.9962528438238804, 0.9962974528259769, 0.9963420618280735, 0.9963866708301701, 0.9964312798322666, 0.9964758888343632, 0.9965204978364598, 0.9965651068385564, 0.9966097158406529, 0.9966543248427495, 0.9966989338448461, 0.9967435428469427, 0.9967881518490392, 0.9968327608511358, 0.9968773698532324, 0.996921978855329, 0.9969665878574255, 0.9970111968595221, 0.9970558058616187, 0.9971004148637153, 0.9971450238658118, 0.9971896328679084, 0.997234241870005, 0.9972788508721016, 0.9973234598741981, 0.9973680688762947, 0.9974126778783913, 0.9974572868804878, 0.9975018958825844, 0.997546504884681, 0.9975911138867776, 0.9976357228888741, 0.9976803318909707, 0.9977249408930673, 0.9977695498951639, 0.9978141588972604, 0.997858767899357, 0.9979033769014536, 0.9979479859035502, 0.9979925949056467, 0.9980372039077433, 0.9980818129098399, 0.9981264219119365, 0.998171030914033, 0.9982156399161296, 0.9982602489182262, 0.9983048579203228, 0.9983494669224193, 0.9983940759245159, 0.9984386849266125, 0.998483293928709, 0.9985279029308056, 0.9985725119329022, 0.9986171209349988, 0.9986617299370953, 0.9987063389391919, 0.9987509479412885, 0.9987955569433851, 0.9988401659454816, 0.9988847749475782, 0.9989293839496748, 0.9989739929517714, 0.9990186019538679, 0.9990632109559645, 0.9991078199580611, 0.9991524289601577, 0.9991970379622542, 0.9992416469643508, 0.9992862559664474, 0.999330864968544, 0.9993754739706405, 0.9994200829727371, 0.9994646919748337, 0.9995093009769302, 0.9995539099790268, 0.9995985189811234, 0.99964312798322, 0.9996877369853165, 0.9997323459874131, 0.9997769549895097, 0.9998215639916063, 0.9998661729937028, 0.9999107819957994, 0.999955390997896, 0.9999999999999926], \"mode\": \"markers\"}], {\"plot_bgcolor\": \"rgb(247,247,247)\", \"legend\": {\"font\": {\"family\": \"serif\", \"size\": 12}}, \"title\": \"<b>Cumulative Distribution of Document Frequencies</b>\", \"titlefont\": {\"family\": \"serif\", \"size\": 24}, \"yaxis\": {\"title\": \"<b>CDF, %</b>\", \"titlefont\": {\"family\": \"serif\", \"size\": 14}, \"tickfont\": {\"family\": \"serif\", \"size\": 14}}, \"xaxis\": {\"title\": \"<b>Document Count</b>\", \"titlefont\": {\"family\": \"serif\", \"size\": 14}, \"tickfont\": {\"family\": \"serif\", \"size\": 14}}}, {\"showLink\": true, \"linkText\": \"Export to plot.ly\"})});</script>"
      ]
     },
     "metadata": {},
     "output_type": "display_data"
    }
   ],
   "source": [
    "# Your turn.\n",
    "import plotly as py\n",
    "import plotly.graph_objs as go\n",
    "\n",
    "py.offline.init_notebook_mode(connected=True)\n",
    "\n",
    "X_dense = X.toarray()\n",
    "freq = np.count_nonzero(X_dense, axis=0)\n",
    "x, y = np.unique(freq, return_counts=True)\n",
    "y = y / len(freq)\n",
    "y_ = [y[0]]\n",
    "_l = []\n",
    "\n",
    "for i in range(1,len(y)):\n",
    "    y_.append(y[i] + y_[i-1])\n",
    "\n",
    "trace0 = go.Scatter(x=x, y=y_, mode=\"markers\")\n",
    "\n",
    "data = [trace0]\n",
    "\n",
    "layout = go.Layout(\n",
    "    plot_bgcolor=\"rgb(247,247,247)\",\n",
    "    legend=dict(font=dict(family=\"serif\", size=12)),\n",
    "    title=\"<b>Cumulative Distribution of Document Frequencies</b>\",\n",
    "    titlefont=dict(family=\"serif\", size=24),\n",
    "    yaxis=dict(title=\"<b>CDF, %</b>\", titlefont=dict(family=\"serif\", size=14), tickfont=dict(family=\"serif\", size=14)), \n",
    "    xaxis=dict(title=\"<b>Document Count</b>\", titlefont=dict(family=\"serif\", size=14), tickfont=dict(family=\"serif\", size=14)))\n",
    "\n",
    "fig = go.Figure(data=data, layout=layout)\n",
    "py.offline.iplot(fig)"
   ]
  },
  {
   "cell_type": "markdown",
   "metadata": {},
   "source": [
    "42.8% of the words in this vocabulary *(any word in all of the critic review quotes)* only occur once throughout all of the documents *(individual critic review quotes)*. Given this dataset using the *Bag-of-Words* approach, I would choose a $min_df=3$ and a $max_df=40$."
   ]
  },
  {
   "cell_type": "markdown",
   "metadata": {},
   "source": [
    "The parameter $\\alpha$ is chosen to be a small value that simply avoids having zeros in the probability computations. This value can sometimes be chosen arbitrarily with domain expertise, but we will use K-fold cross validation. In K-fold cross-validation, we divide the data into $K$ non-overlapping parts. We train on $K-1$ of the folds and test on the remaining fold. We then iterate, so that each fold serves as the test fold exactly once. The function `cv_score` performs the K-fold cross-validation algorithm for us, but we need to pass a function that measures the performance of the algorithm on each fold. "
   ]
  },
  {
   "cell_type": "code",
   "execution_count": 10,
   "metadata": {
    "collapsed": true
   },
   "outputs": [],
   "source": [
    "from sklearn.model_selection import KFold\n",
    "def cv_score(clf, X, y, scorefunc):\n",
    "    result = 0.\n",
    "    nfold = 5\n",
    "    for train, test in KFold(nfold).split(X): # split data into train/test groups, 5 times\n",
    "        clf.fit(X[train], y[train]) # fit the classifier, passed is as clf.\n",
    "        result += scorefunc(clf, X[test], y[test]) # evaluate score function on held-out data\n",
    "    return result / nfold # average"
   ]
  },
  {
   "cell_type": "markdown",
   "metadata": {},
   "source": [
    "We use the log-likelihood as the score here in `scorefunc`. The higher the log-likelihood, the better. Indeed, what we do in `cv_score` above is to implement the cross-validation part of `GridSearchCV`.\n",
    "\n",
    "The custom scoring function `scorefunc` allows us to use different metrics depending on the decision risk we care about (precision, accuracy, profit etc.) directly on the validation set. You will often find people using `roc_auc`, precision, recall, or `F1-score` as the scoring function."
   ]
  },
  {
   "cell_type": "code",
   "execution_count": 11,
   "metadata": {
    "collapsed": true
   },
   "outputs": [],
   "source": [
    "def log_likelihood(clf, x, y):\n",
    "    prob = clf.predict_log_proba(x)\n",
    "    rotten = y == 0\n",
    "    fresh = ~rotten\n",
    "    return prob[rotten, 0].sum() + prob[fresh, 1].sum()"
   ]
  },
  {
   "cell_type": "markdown",
   "metadata": {},
   "source": [
    "We'll cross-validate over the regularization parameter $\\alpha$."
   ]
  },
  {
   "cell_type": "markdown",
   "metadata": {},
   "source": [
    "Let's set up the train and test masks first, and then we can run the cross-validation procedure."
   ]
  },
  {
   "cell_type": "code",
   "execution_count": 12,
   "metadata": {},
   "outputs": [
    {
     "name": "stderr",
     "output_type": "stream",
     "text": [
      "C:\\ProgramData\\Anaconda3\\lib\\site-packages\\sklearn\\model_selection\\_split.py:2026: FutureWarning: From version 0.21, test_size will always complement train_size unless both are specified.\n",
      "  FutureWarning)\n"
     ]
    }
   ],
   "source": [
    "from sklearn.model_selection import train_test_split\n",
    "\n",
    "_, itest = train_test_split(range(critics.shape[0]), train_size=0.7)\n",
    "mask = np.zeros(critics.shape[0], dtype=np.bool)\n",
    "mask[itest] = True"
   ]
  },
  {
   "cell_type": "markdown",
   "metadata": {},
   "source": [
    "<div class=\"span5 alert alert-info\">\n",
    "<h3>Exercise Set IV</h3>\n",
    "\n",
    "<p><b>Exercise:</b> What does using the function `log_likelihood` as the score mean? What are we trying to optimize for?</p>\n",
    "\n",
    "<p><b>Exercise:</b> Without writing any code, what do you think would happen if you choose a value of $\\alpha$ that is too high?</p>\n",
    "\n",
    "<p><b>Exercise:</b> Using the skeleton code below, find the best values of the parameter `alpha`, and use the value of `min_df` you chose in the previous exercise set. Use the `cv_score` function above with the `log_likelihood` function for scoring.</p>\n",
    "</div>"
   ]
  },
  {
   "cell_type": "code",
   "execution_count": 13,
   "metadata": {
    "collapsed": true
   },
   "outputs": [
    {
     "ename": "TypeError",
     "evalue": "'<' not supported between instances of 'NoneType' and 'int'",
     "output_type": "error",
     "traceback": [
      "\u001b[1;31m---------------------------------------------------------------------------\u001b[0m",
      "\u001b[1;31mTypeError\u001b[0m                                 Traceback (most recent call last)",
      "\u001b[1;32m<ipython-input-13-b25de11d517f>\u001b[0m in \u001b[0;36m<module>\u001b[1;34m()\u001b[0m\n\u001b[0;32m      9\u001b[0m \u001b[0mmaxscore\u001b[0m\u001b[1;33m=\u001b[0m\u001b[1;33m-\u001b[0m\u001b[0mnp\u001b[0m\u001b[1;33m.\u001b[0m\u001b[0minf\u001b[0m\u001b[1;33m\u001b[0m\u001b[0m\n\u001b[0;32m     10\u001b[0m \u001b[1;32mfor\u001b[0m \u001b[0malpha\u001b[0m \u001b[1;32min\u001b[0m \u001b[0malphas\u001b[0m\u001b[1;33m:\u001b[0m\u001b[1;33m\u001b[0m\u001b[0m\n\u001b[1;32m---> 11\u001b[1;33m     \u001b[0mvectorizer\u001b[0m \u001b[1;33m=\u001b[0m \u001b[0mCountVectorizer\u001b[0m\u001b[1;33m(\u001b[0m\u001b[0mmin_df\u001b[0m\u001b[1;33m=\u001b[0m\u001b[0mbest_min_df\u001b[0m\u001b[1;33m)\u001b[0m\u001b[1;33m\u001b[0m\u001b[0m\n\u001b[0m\u001b[0;32m     12\u001b[0m     \u001b[0mXthis\u001b[0m\u001b[1;33m,\u001b[0m \u001b[0mythis\u001b[0m \u001b[1;33m=\u001b[0m \u001b[0mmake_xy\u001b[0m\u001b[1;33m(\u001b[0m\u001b[0mcritics\u001b[0m\u001b[1;33m,\u001b[0m \u001b[0mvectorizer\u001b[0m\u001b[1;33m)\u001b[0m\u001b[1;33m\u001b[0m\u001b[0m\n\u001b[0;32m     13\u001b[0m     \u001b[0mXtrainthis\u001b[0m \u001b[1;33m=\u001b[0m \u001b[0mXthis\u001b[0m\u001b[1;33m[\u001b[0m\u001b[0mmask\u001b[0m\u001b[1;33m]\u001b[0m\u001b[1;33m\u001b[0m\u001b[0m\n",
      "\u001b[1;32mC:\\ProgramData\\Anaconda3\\lib\\site-packages\\sklearn\\feature_extraction\\text.py\u001b[0m in \u001b[0;36m__init__\u001b[1;34m(self, input, encoding, decode_error, strip_accents, lowercase, preprocessor, tokenizer, stop_words, token_pattern, ngram_range, analyzer, max_df, min_df, max_features, vocabulary, binary, dtype)\u001b[0m\n\u001b[0;32m    704\u001b[0m         \u001b[0mself\u001b[0m\u001b[1;33m.\u001b[0m\u001b[0mmax_df\u001b[0m \u001b[1;33m=\u001b[0m \u001b[0mmax_df\u001b[0m\u001b[1;33m\u001b[0m\u001b[0m\n\u001b[0;32m    705\u001b[0m         \u001b[0mself\u001b[0m\u001b[1;33m.\u001b[0m\u001b[0mmin_df\u001b[0m \u001b[1;33m=\u001b[0m \u001b[0mmin_df\u001b[0m\u001b[1;33m\u001b[0m\u001b[0m\n\u001b[1;32m--> 706\u001b[1;33m         \u001b[1;32mif\u001b[0m \u001b[0mmax_df\u001b[0m \u001b[1;33m<\u001b[0m \u001b[1;36m0\u001b[0m \u001b[1;32mor\u001b[0m \u001b[0mmin_df\u001b[0m \u001b[1;33m<\u001b[0m \u001b[1;36m0\u001b[0m\u001b[1;33m:\u001b[0m\u001b[1;33m\u001b[0m\u001b[0m\n\u001b[0m\u001b[0;32m    707\u001b[0m             \u001b[1;32mraise\u001b[0m \u001b[0mValueError\u001b[0m\u001b[1;33m(\u001b[0m\u001b[1;34m\"negative value for max_df or min_df\"\u001b[0m\u001b[1;33m)\u001b[0m\u001b[1;33m\u001b[0m\u001b[0m\n\u001b[0;32m    708\u001b[0m         \u001b[0mself\u001b[0m\u001b[1;33m.\u001b[0m\u001b[0mmax_features\u001b[0m \u001b[1;33m=\u001b[0m \u001b[0mmax_features\u001b[0m\u001b[1;33m\u001b[0m\u001b[0m\n",
      "\u001b[1;31mTypeError\u001b[0m: '<' not supported between instances of 'NoneType' and 'int'"
     ]
    }
   ],
   "source": [
    "from sklearn.naive_bayes import MultinomialNB\n",
    "\n",
    "#the grid of parameters to search over\n",
    "alphas = [.1, 1, 5, 10, 50]\n",
    "best_min_df = None # YOUR TURN: put your value of min_df here.\n",
    "\n",
    "#Find the best value for alpha and min_df, and the best classifier\n",
    "best_alpha = None\n",
    "maxscore=-np.inf\n",
    "for alpha in alphas:        \n",
    "    vectorizer = CountVectorizer(min_df=best_min_df)       \n",
    "    Xthis, ythis = make_xy(critics, vectorizer)\n",
    "    Xtrainthis = Xthis[mask]\n",
    "    ytrainthis = ythis[mask]\n",
    "    # your turn"
   ]
  },
  {
   "cell_type": "code",
   "execution_count": null,
   "metadata": {
    "collapsed": true
   },
   "outputs": [],
   "source": [
    "print(\"alpha: {}\".format(best_alpha))"
   ]
  },
  {
   "cell_type": "markdown",
   "metadata": {},
   "source": [
    "<div class=\"span5 alert alert-info\">\n",
    "<h3>Exercise Set V: Working with the Best Parameters</h3>\n",
    "\n",
    "<p><b>Exercise:</b> Using the best value of  `alpha` you just found, calculate the accuracy on the training and test sets. Is this classifier better? Why (not)?</p>\n",
    "\n",
    "</div>"
   ]
  },
  {
   "cell_type": "code",
   "execution_count": null,
   "metadata": {
    "collapsed": true
   },
   "outputs": [],
   "source": [
    "vectorizer = CountVectorizer(min_df=best_min_df)\n",
    "X, y = make_xy(critics, vectorizer)\n",
    "xtrain=X[mask]\n",
    "ytrain=y[mask]\n",
    "xtest=X[~mask]\n",
    "ytest=y[~mask]\n",
    "\n",
    "clf = MultinomialNB(alpha=best_alpha).fit(xtrain, ytrain)\n",
    "\n",
    "#your turn. Print the accuracy on the test and training dataset\n",
    "training_accuracy = clf.score(xtrain, ytrain)\n",
    "test_accuracy = clf.score(xtest, ytest)\n",
    "\n",
    "print(\"Accuracy on training data: {:2f}\".format(training_accuracy))\n",
    "print(\"Accuracy on test data:     {:2f}\".format(test_accuracy))"
   ]
  },
  {
   "cell_type": "code",
   "execution_count": null,
   "metadata": {
    "collapsed": true
   },
   "outputs": [],
   "source": [
    "from sklearn.metrics import confusion_matrix\n",
    "print(confusion_matrix(ytest, clf.predict(xtest)))"
   ]
  },
  {
   "cell_type": "markdown",
   "metadata": {},
   "source": [
    "## Interpretation"
   ]
  },
  {
   "cell_type": "markdown",
   "metadata": {},
   "source": [
    "### What are the strongly predictive features?\n",
    "\n",
    "We use a neat trick to identify strongly predictive features (i.e. words). \n",
    "\n",
    "* first, create a data set such that each row has exactly one feature. This is represented by the identity matrix.\n",
    "* use the trained classifier to make predictions on this matrix\n",
    "* sort the rows by predicted probabilities, and pick the top and bottom $K$ rows"
   ]
  },
  {
   "cell_type": "code",
   "execution_count": null,
   "metadata": {
    "collapsed": true
   },
   "outputs": [],
   "source": [
    "words = np.array(vectorizer.get_feature_names())\n",
    "\n",
    "x = np.eye(xtest.shape[1])\n",
    "probs = clf.predict_log_proba(x)[:, 0]\n",
    "ind = np.argsort(probs)\n",
    "\n",
    "good_words = words[ind[:10]]\n",
    "bad_words = words[ind[-10:]]\n",
    "\n",
    "good_prob = probs[ind[:10]]\n",
    "bad_prob = probs[ind[-10:]]\n",
    "\n",
    "print(\"Good words\\t     P(fresh | word)\")\n",
    "for w, p in zip(good_words, good_prob):\n",
    "    print(\"{:>20}\".format(w), \"{:.2f}\".format(1 - np.exp(p)))\n",
    "    \n",
    "print(\"Bad words\\t     P(fresh | word)\")\n",
    "for w, p in zip(bad_words, bad_prob):\n",
    "    print(\"{:>20}\".format(w), \"{:.2f}\".format(1 - np.exp(p)))"
   ]
  },
  {
   "cell_type": "markdown",
   "metadata": {},
   "source": [
    "<div class=\"span5 alert alert-info\">\n",
    "<h3>Exercise Set VI</h3>\n",
    "\n",
    "<p><b>Exercise:</b> Why does this method work? What does the probability for each row in the identity matrix represent</p>\n",
    "\n",
    "</div>"
   ]
  },
  {
   "cell_type": "markdown",
   "metadata": {},
   "source": [
    "The above exercise is an example of *feature selection*. There are many other feature selection methods. A list of feature selection methods available in `sklearn` is [here](http://scikit-learn.org/stable/modules/classes.html#module-sklearn.feature_selection). The most common feature selection technique for text mining is the chi-squared $\\left( \\chi^2 \\right)$ [method](http://nlp.stanford.edu/IR-book/html/htmledition/feature-selectionchi2-feature-selection-1.html)."
   ]
  },
  {
   "cell_type": "markdown",
   "metadata": {},
   "source": [
    "### Prediction Errors\n",
    "\n",
    "We can see mis-predictions as well."
   ]
  },
  {
   "cell_type": "code",
   "execution_count": null,
   "metadata": {
    "collapsed": true
   },
   "outputs": [],
   "source": [
    "x, y = make_xy(critics, vectorizer)\n",
    "\n",
    "prob = clf.predict_proba(x)[:, 0]\n",
    "predict = clf.predict(x)\n",
    "\n",
    "bad_rotten = np.argsort(prob[y == 0])[:5]\n",
    "bad_fresh = np.argsort(prob[y == 1])[-5:]\n",
    "\n",
    "print(\"Mis-predicted Rotten quotes\")\n",
    "print('---------------------------')\n",
    "for row in bad_rotten:\n",
    "    print(critics[y == 0].quote.iloc[row])\n",
    "    print(\"\")\n",
    "\n",
    "print(\"Mis-predicted Fresh quotes\")\n",
    "print('--------------------------')\n",
    "for row in bad_fresh:\n",
    "    print(critics[y == 1].quote.iloc[row])\n",
    "    print(\"\")"
   ]
  },
  {
   "cell_type": "markdown",
   "metadata": {},
   "source": [
    "<div class=\"span5 alert alert-info\">\n",
    "<h3>Exercise Set VII: Predicting the Freshness for a New Review</h3>\n",
    "<br/>\n",
    "<div>\n",
    "<b>Exercise:</b>\n",
    "<ul>\n",
    "<li> Using your best trained classifier, predict the freshness of the following sentence: *'This movie is not remarkable, touching, or superb in any way'*\n",
    "<li> Is the result what you'd expect? Why (not)?\n",
    "</ul>\n",
    "</div>\n",
    "</div>"
   ]
  },
  {
   "cell_type": "code",
   "execution_count": null,
   "metadata": {
    "collapsed": true
   },
   "outputs": [],
   "source": [
    "#your turn"
   ]
  },
  {
   "cell_type": "markdown",
   "metadata": {},
   "source": [
    "### Aside: TF-IDF Weighting for Term Importance\n",
    "\n",
    "TF-IDF stands for \n",
    "\n",
    "`Term-Frequency X Inverse Document Frequency`.\n",
    "\n",
    "In the standard `CountVectorizer` model above, we used just the term frequency in a document of words in our vocabulary. In TF-IDF, we weight this term frequency by the inverse of its popularity in all documents. For example, if the word \"movie\" showed up in all the documents, it would not have much predictive value. It could actually be considered a stopword. By weighing its counts by 1 divided by its overall frequency, we downweight it. We can then use this TF-IDF weighted features as inputs to any classifier. **TF-IDF is essentially a measure of term importance, and of how discriminative a word is in a corpus.** There are a variety of nuances involved in computing TF-IDF, mainly involving where to add the smoothing term to avoid division by 0, or log of 0 errors. The formula for TF-IDF in `scikit-learn` differs from that of most textbooks: \n",
    "\n",
    "$$\\mbox{TF-IDF}(t, d) = \\mbox{TF}(t, d)\\times \\mbox{IDF}(t) = n_{td} \\log{\\left( \\frac{\\vert D \\vert}{\\vert d : t \\in d \\vert} + 1 \\right)}$$\n",
    "\n",
    "where $n_{td}$ is the number of times term $t$ occurs in document $d$, $\\vert D \\vert$ is the number of documents, and $\\vert d : t \\in d \\vert$ is the number of documents that contain $t$"
   ]
  },
  {
   "cell_type": "code",
   "execution_count": null,
   "metadata": {
    "collapsed": true
   },
   "outputs": [],
   "source": [
    "# http://scikit-learn.org/dev/modules/feature_extraction.html#text-feature-extraction\n",
    "# http://scikit-learn.org/dev/modules/classes.html#text-feature-extraction-ref\n",
    "from sklearn.feature_extraction.text import TfidfVectorizer\n",
    "tfidfvectorizer = TfidfVectorizer(min_df=1, stop_words='english')\n",
    "Xtfidf=tfidfvectorizer.fit_transform(critics.quote)"
   ]
  },
  {
   "cell_type": "markdown",
   "metadata": {},
   "source": [
    "<div class=\"span5 alert alert-info\">\n",
    "<h3>Exercise Set VIII: Enrichment <b>(Optional)</b></h3>\n",
    "\n",
    "<p>\n",
    "There are several additional things we could try. Try some of these as exercises:\n",
    "<ol>\n",
    "<li> Build a Naive Bayes model where the features are n-grams instead of words. N-grams are phrases containing n words next to each other: a bigram contains 2 words, a trigram contains 3 words, and 6-gram contains 6 words. This is useful because \"not good\" and \"so good\" mean very different things. On the other hand, as n increases, the model does not scale well since the feature set becomes more sparse.\n",
    "<li> Try a model besides Naive Bayes, one that would allow for interactions between words -- for example, a Random Forest classifier.\n",
    "<li> Try adding supplemental features -- information about genre, director, cast, etc.\n",
    "<li> Use word2vec or [Latent Dirichlet Allocation](https://en.wikipedia.org/wiki/Latent_Dirichlet_allocation) to group words into topics and use those topics for prediction.\n",
    "<li> Use TF-IDF weighting instead of word counts.\n",
    "</ol>\n",
    "</p>\n",
    "\n",
    "<b>Exercise:</b> Try at least one of these ideas to improve the model (or any other ideas of your own). Implement here and report on the result. \n",
    "</div>"
   ]
  },
  {
   "cell_type": "code",
   "execution_count": null,
   "metadata": {
    "collapsed": true
   },
   "outputs": [],
   "source": [
    "# Your turn"
   ]
  }
 ],
 "metadata": {
  "kernelspec": {
   "display_name": "Python 3",
   "language": "python",
   "name": "python3"
  },
  "language_info": {
   "codemirror_mode": {
    "name": "ipython",
    "version": 3
   },
   "file_extension": ".py",
   "mimetype": "text/x-python",
   "name": "python",
   "nbconvert_exporter": "python",
   "pygments_lexer": "ipython3",
   "version": "3.6.6"
  }
 },
 "nbformat": 4,
 "nbformat_minor": 2
}
